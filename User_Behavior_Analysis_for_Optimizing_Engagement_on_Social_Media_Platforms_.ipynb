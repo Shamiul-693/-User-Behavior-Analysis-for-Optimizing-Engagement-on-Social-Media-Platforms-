{
  "nbformat": 4,
  "nbformat_minor": 0,
  "metadata": {
    "colab": {
      "provenance": [],
      "mount_file_id": "1V7ZdHSWlpub76XJAgcELwsATLBLKS88u",
      "authorship_tag": "ABX9TyOo0O5muP4RQkUedzTStrQ+",
      "include_colab_link": true
    },
    "kernelspec": {
      "name": "python3",
      "display_name": "Python 3"
    },
    "language_info": {
      "name": "python"
    }
  },
  "cells": [
    {
      "cell_type": "markdown",
      "metadata": {
        "id": "view-in-github",
        "colab_type": "text"
      },
      "source": [
        "<a href=\"https://colab.research.google.com/github/Shamiul-693/-User-Behavior-Analysis-for-Optimizing-Engagement-on-Social-Media-Platforms-/blob/main/User_Behavior_Analysis_for_Optimizing_Engagement_on_Social_Media_Platforms_.ipynb\" target=\"_parent\"><img src=\"https://colab.research.google.com/assets/colab-badge.svg\" alt=\"Open In Colab\"/></a>"
      ]
    },
    {
      "cell_type": "code",
      "execution_count": 3,
      "metadata": {
        "id": "Lb6cU6q3x01c"
      },
      "outputs": [],
      "source": [
        "import pandas as pd\n",
        "import pandas as pd\n",
        "from  sklearn.metrics.pairwise import cosine_similarity\n",
        "from sklearn.preprocessing import OneHotEncoder\n",
        "from datetime import datetime"
      ]
    },
    {
      "cell_type": "code",
      "source": [
        "data=pd.read_csv('/content/drive/MyDrive/ User Behavior Analysis for Optimizing Engagement on Social Media  Platforms /SocialMediaUsersDataset.csv')"
      ],
      "metadata": {
        "id": "9srGH_ddMbqO"
      },
      "execution_count": 4,
      "outputs": []
    },
    {
      "cell_type": "code",
      "source": [],
      "metadata": {
        "id": "jKpXAuL2Mqxf"
      },
      "execution_count": null,
      "outputs": []
    }
  ]
}